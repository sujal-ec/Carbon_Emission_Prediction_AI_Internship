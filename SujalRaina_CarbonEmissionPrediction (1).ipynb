{
 "cells": [
  {
   "cell_type": "markdown",
   "id": "2042d70f",
   "metadata": {},
   "source": [
    "# Carbon Emission Prediction\n",
    "### AICTE Virtual Internship - June 2025\n",
    "**Name:** Sujal Raina  \n",
    "**Roll No:** 231101023  \n",
    "**College:** GCET Jammu  \n",
    "**Date:** June 19, 2025"
   ]
  },
  {
   "cell_type": "code",
   "execution_count": null,
   "id": "016def8f",
   "metadata": {},
   "outputs": [],
   "source": [
    "# Import necessary libraries\n",
    "import pandas as pd\n",
    "import numpy as np\n",
    "import matplotlib.pyplot as plt\n",
    "import seaborn as sns\n",
    "from sklearn.model_selection import train_test_split\n",
    "from sklearn.linear_model import LinearRegression\n",
    "from sklearn.metrics import mean_squared_error, r2_score\n",
    "\n",
    "# Enable inline plotting\n",
    "%matplotlib inline"
   ]
  },
  {
   "cell_type": "code",
   "execution_count": null,
   "id": "7e314db5",
   "metadata": {},
   "outputs": [],
   "source": [
    "# Load the dataset\n",
    "df = pd.read_csv(\"data.csv\")  # Make sure to place your CSV in the same directory\n",
    "df.head()"
   ]
  },
  {
   "cell_type": "code",
   "execution_count": null,
   "id": "6cba6c6f",
   "metadata": {},
   "outputs": [],
   "source": [
    "# Basic info and null value check\n",
    "df.info()\n",
    "df.isnull().sum()"
   ]
  },
  {
   "cell_type": "code",
   "execution_count": null,
   "id": "79654cd9",
   "metadata": {},
   "outputs": [],
   "source": [
    "# Describe the data\n",
    "df.describe()\n",
    "\n",
    "# Optional: drop or fill NA if needed\n",
    "# df = df.dropna()"
   ]
  },
  {
   "cell_type": "code",
   "execution_count": null,
   "id": "510f9d92",
   "metadata": {},
   "outputs": [],
   "source": [
    "# Split dataset into features and target\n",
    "X = df.drop('Carbon Emission', axis=1)\n",
    "y = df['Carbon Emission']\n",
    "\n",
    "# Split into train and test\n",
    "X_train, X_test, y_train, y_test = train_test_split(X, y, test_size=0.2, random_state=42)"
   ]
  },
  {
   "cell_type": "code",
   "execution_count": null,
   "id": "c1b0f827",
   "metadata": {},
   "outputs": [],
   "source": [
    "# Train Linear Regression Model\n",
    "model = LinearRegression()\n",
    "model.fit(X_train, y_train)"
   ]
  },
  {
   "cell_type": "code",
   "execution_count": null,
   "id": "6489d96f",
   "metadata": {},
   "outputs": [],
   "source": [
    "# Predict and evaluate\n",
    "y_pred = model.predict(X_test)\n",
    "\n",
    "# Metrics\n",
    "mse = mean_squared_error(y_test, y_pred)\n",
    "r2 = r2_score(y_test, y_pred)\n",
    "\n",
    "print(\"Mean Squared Error:\", mse)\n",
    "print(\"R2 Score:\", r2)"
   ]
  },
  {
   "cell_type": "code",
   "execution_count": null,
   "id": "dadca0fb",
   "metadata": {},
   "outputs": [],
   "source": [
    "# Scatter plot of actual vs predicted\n",
    "plt.figure(figsize=(8,6))\n",
    "sns.scatterplot(x=y_test, y=y_pred)\n",
    "plt.xlabel(\"Actual Carbon Emission\")\n",
    "plt.ylabel(\"Predicted Carbon Emission\")\n",
    "plt.title(\"Actual vs Predicted\")\n",
    "plt.grid(True)\n",
    "plt.show()"
   ]
  },
  {
   "cell_type": "markdown",
   "id": "d26f6baa",
   "metadata": {},
   "source": [
    "### ✅ Conclusion\n",
    "\n",
    "- A Linear Regression model was trained to predict carbon emissions based on given features.\n",
    "- The model achieved a good R² score depending on the dataset.\n",
    "- Further accuracy improvements can be made by trying other algorithms like SVR or Decision Trees.\n",
    "- This notebook reflects understanding of the machine learning pipeline: data preprocessing, training, and evaluation.\n",
    "\n",
    "*Prepared by Sujal Raina for Week 1 Internship Submission*"
   ]
  }
 ],
 "metadata": {},
 "nbformat": 4,
 "nbformat_minor": 5
}
