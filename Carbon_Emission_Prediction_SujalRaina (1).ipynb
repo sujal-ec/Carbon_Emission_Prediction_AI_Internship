{
 "cells": [
  {
   "cell_type": "markdown",
   "id": "3b13bdaa",
   "metadata": {},
   "source": [
    "# 🌍 Carbon Emission Prediction using AI\n",
    "**Intern: Sujal Raina | Roll No: 231101023**"
   ]
  },
  {
   "cell_type": "code",
   "execution_count": null,
   "id": "f5b858e0",
   "metadata": {},
   "outputs": [],
   "source": [
    "\n",
    "import pandas as pd\n",
    "import numpy as np\n",
    "import matplotlib.pyplot as plt\n",
    "import seaborn as sns\n",
    "\n",
    "from sklearn.model_selection import train_test_split\n",
    "from sklearn.linear_model import LinearRegression\n",
    "from sklearn.metrics import mean_squared_error, r2_score\n",
    "\n",
    "import warnings\n",
    "warnings.filterwarnings(\"ignore\")\n"
   ]
  },
  {
   "cell_type": "code",
   "execution_count": null,
   "id": "639f8428",
   "metadata": {},
   "outputs": [],
   "source": [
    "\n",
    "# Load dataset\n",
    "# Replace 'carbon_emission.csv' with actual dataset path\n",
    "df = pd.read_csv(\"carbon_emission.csv\")\n",
    "df.head()\n"
   ]
  },
  {
   "cell_type": "code",
   "execution_count": null,
   "id": "6bf5701c",
   "metadata": {},
   "outputs": [],
   "source": [
    "\n",
    "# Check for missing values and info\n",
    "df.info()\n",
    "df.isnull().sum()\n"
   ]
  },
  {
   "cell_type": "code",
   "execution_count": null,
   "id": "31e0a76e",
   "metadata": {},
   "outputs": [],
   "source": [
    "\n",
    "# Fill or drop missing values (if any)\n",
    "df = df.dropna()\n"
   ]
  },
  {
   "cell_type": "code",
   "execution_count": null,
   "id": "e73aacb9",
   "metadata": {},
   "outputs": [],
   "source": [
    "\n",
    "# Visualize correlation\n",
    "plt.figure(figsize=(10,6))\n",
    "sns.heatmap(df.corr(), annot=True, cmap='coolwarm')\n",
    "plt.title(\"Correlation Matrix\")\n",
    "plt.show()\n"
   ]
  },
  {
   "cell_type": "code",
   "execution_count": null,
   "id": "d120ce06",
   "metadata": {},
   "outputs": [],
   "source": [
    "\n",
    "# Assume target is 'CO2_Emissions' and features are others\n",
    "X = df.drop('CO2_Emissions', axis=1)\n",
    "y = df['CO2_Emissions']\n",
    "\n",
    "# Split the data\n",
    "X_train, X_test, y_train, y_test = train_test_split(X, y, test_size=0.2, random_state=42)\n"
   ]
  },
  {
   "cell_type": "code",
   "execution_count": null,
   "id": "4c544891",
   "metadata": {},
   "outputs": [],
   "source": [
    "\n",
    "# Train Linear Regression model\n",
    "model = LinearRegression()\n",
    "model.fit(X_train, y_train)\n",
    "\n",
    "# Predict\n",
    "y_pred = model.predict(X_test)\n"
   ]
  },
  {
   "cell_type": "code",
   "execution_count": null,
   "id": "4ed05dcf",
   "metadata": {},
   "outputs": [],
   "source": [
    "\n",
    "# Evaluate model\n",
    "mse = mean_squared_error(y_test, y_pred)\n",
    "r2 = r2_score(y_test, y_pred)\n",
    "\n",
    "print(\"📉 Mean Squared Error:\", mse)\n",
    "print(\"📈 R² Score:\", r2)\n"
   ]
  },
  {
   "cell_type": "code",
   "execution_count": null,
   "id": "763fdc0b",
   "metadata": {},
   "outputs": [],
   "source": [
    "\n",
    "# Plot actual vs predicted\n",
    "plt.figure(figsize=(8,6))\n",
    "plt.scatter(y_test, y_pred, alpha=0.7, color='green')\n",
    "plt.xlabel(\"Actual CO2 Emissions\")\n",
    "plt.ylabel(\"Predicted CO2 Emissions\")\n",
    "plt.title(\"Actual vs Predicted CO2 Emissions\")\n",
    "plt.grid(True)\n",
    "plt.show()\n"
   ]
  }
 ],
 "metadata": {},
 "nbformat": 4,
 "nbformat_minor": 5
}
